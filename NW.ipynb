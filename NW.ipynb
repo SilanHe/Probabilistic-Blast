{
 "cells": [
  {
   "cell_type": "code",
   "execution_count": 1,
   "metadata": {},
   "outputs": [],
   "source": [
    "import numpy as np"
   ]
  },
  {
   "cell_type": "code",
   "execution_count": null,
   "metadata": {},
   "outputs": [],
   "source": [
    "def nw(S,T,gap_penalty):\n",
    "    # call it nw because needleman-wunsch is kind of hard to spell\n",
    "    \n",
    "    len_S = len(S)\n",
    "    len_T = len(T)\n",
    "    \n",
    "    dp = [[0 for j in range(len_S+1)] for i in range(len_T+1)]\n",
    "    backpointers = [[None for i in range(len_S+1)] for j in range(len_T+1)]\n",
    "    \n",
    "    # init start scores\n",
    "    \n",
    "    for j in range(1,len_S):\n",
    "        dp[0][i] = j * gap_penalty\n",
    "    \n",
    "    for i in range(1,len_T):\n",
    "        dp[j][0] = i * gap_penalty\n",
    "    \n",
    "    \n",
    "    # run needleman winsch\n",
    "    \n",
    "    for i in range(1,len_T+1):\n",
    "        for j in range(1,len_S+1):\n",
    "            \n",
    "            # going diagonal\n",
    "            cur_best_score = dp[i-1][j-1] + (1 if T[i-1] == S[j-1] else 0)\n",
    "            cur_backpointer = [i-1,j-1]\n",
    "            \n",
    "            # going down, so along T\n",
    "            tmp_score = dp[i-1][j] \n",
    "            \n",
    "            \n",
    "            # going right, so along S"
   ]
  }
 ],
 "metadata": {
  "kernelspec": {
   "display_name": "Python 3",
   "language": "python",
   "name": "python3"
  },
  "language_info": {
   "codemirror_mode": {
    "name": "ipython",
    "version": 3
   },
   "file_extension": ".py",
   "mimetype": "text/x-python",
   "name": "python",
   "nbconvert_exporter": "python",
   "pygments_lexer": "ipython3",
   "version": "3.7.4"
  }
 },
 "nbformat": 4,
 "nbformat_minor": 2
}
