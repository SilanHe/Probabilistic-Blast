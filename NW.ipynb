{
 "cells": [
  {
   "cell_type": "code",
   "execution_count": 1,
   "metadata": {},
   "outputs": [],
   "source": [
    "import numpy as np"
   ]
  },
  {
   "cell_type": "code",
   "execution_count": 15,
   "metadata": {},
   "outputs": [],
   "source": [
    "def nw(S,T,gap_penalty,match_score,mismatch_score):\n",
    "    # call it nw because needleman-wunsch is kind of hard to spell\n",
    "    \n",
    "    len_S = len(S)\n",
    "    len_T = len(T)\n",
    "    \n",
    "    dp = [[0 for j in range(len_S+1)] for i in range(len_T+1)]\n",
    "    backpointers = [[None for i in range(len_S+1)] for j in range(len_T+1)]\n",
    "    \n",
    "    # init start scores\n",
    "    \n",
    "    for j in range(1,len_S):\n",
    "        dp[0][j] = j * gap_penalty\n",
    "        backpointers[0][j] = [0,j-1]\n",
    "    \n",
    "    for i in range(1,len_T):\n",
    "        dp[i][0] = i * gap_penalty\n",
    "        backpointers[i][0] = [i-1,0]\n",
    "    \n",
    "    \n",
    "    # run needleman winsch\n",
    "    \n",
    "    for i in range(1,len_T+1):\n",
    "        for j in range(1,len_S+1):\n",
    "            \n",
    "            # going diagonal, need to offset by 1 to get index 0\n",
    "            cur_best_score = dp[i-1][j-1] + (match_score if T[i-1] == S[j-1] else mismatch_score)\n",
    "            cur_backpointer = [i-1,j-1]\n",
    "            \n",
    "            # going down, so along T\n",
    "            tmp_score = dp[i-1][j] + gap_penalty\n",
    "            if tmp_score > cur_best_score:\n",
    "                cur_best_score = tmp_score\n",
    "                cur_backpointer = [i-1,j]\n",
    "            \n",
    "            # going right, so along S\n",
    "            tmp_score = dp[i][j-1] + gap_penalty\n",
    "            if tmp_score > cur_best_score:\n",
    "                cur_best_score = tmp_score\n",
    "                cur_backpointer = [i,j-1]\n",
    "            \n",
    "            dp[i][j] = cur_best_score\n",
    "            backpointers[i][j] = cur_backpointer\n",
    "    \n",
    "    # best score should be at [len_T][len_S]\n",
    "    \n",
    "    # traceback\n",
    "    back_ptr = [len_T,len_S]\n",
    "    rev_sol_T = list()\n",
    "    rev_sol_S = list()\n",
    "    \n",
    "    while not (back_ptr[0] == 0 and back_ptr[1] == 0):\n",
    "        \n",
    "        next_back_ptr = backpointers[back_ptr[0]][back_ptr[1]]\n",
    "        \n",
    "        # going diagonal\n",
    "        if next_back_ptr[0] == back_ptr[0] - 1 and next_back_ptr[1] == back_ptr[1] - 1:\n",
    "            rev_sol_T.append(T[back_ptr[0]-1])\n",
    "            rev_sol_S.append(S[back_ptr[1]-1])\n",
    "            \n",
    "            \n",
    "        \n",
    "        # going up, so along T. Gap in S\n",
    "        elif next_back_ptr[0] == back_ptr[0] - 1 and next_back_ptr[1] == back_ptr[1]:\n",
    "            rev_sol_T.append(T[back_ptr[0]-1])\n",
    "            rev_sol_S.append('-')\n",
    "            \n",
    "        \n",
    "        # going down, so along S. Gap in T\n",
    "        elif next_back_ptr[0] == back_ptr[0] and next_back_ptr[1] == back_ptr[1] - 1:\n",
    "            rev_sol_T.append('-')\n",
    "            rev_sol_S.append(S[back_ptr[1]-1])\n",
    "            \n",
    "        back_ptr = next_back_ptr\n",
    "    \n",
    "    sol_T = rev_sol_T[::-1]\n",
    "    sol_S = rev_sol_S[::-1]\n",
    "    \n",
    "    T_final = \"\".join(sol_T)\n",
    "    S_final = \"\".join(sol_S)\n",
    "    \n",
    "    print(T_final)\n",
    "    print(S_final)"
   ]
  },
  {
   "cell_type": "code",
   "execution_count": 20,
   "metadata": {},
   "outputs": [
    {
     "name": "stdout",
     "output_type": "stream",
     "text": [
      "hello hello my name is jonathan\n",
      "------hello my name is jonathan\n"
     ]
    }
   ],
   "source": [
    "# test 1\n",
    "s1 = \"hello my name is jonathan\"\n",
    "s2 = \"hello hello my name is jonathan\"\n",
    "gap_penalty = -1\n",
    "match_score = 1\n",
    "mismatch_score = -1\n",
    "\n",
    "nw(s1,s2,gap_penalty,match_score,mismatch_score)"
   ]
  },
  {
   "cell_type": "code",
   "execution_count": 22,
   "metadata": {},
   "outputs": [
    {
     "name": "stdout",
     "output_type": "stream",
     "text": [
      "AAAA--AAAA\n",
      "AAAABBAAAA\n"
     ]
    }
   ],
   "source": [
    "# test 2\n",
    "s1 = \"AAAABBAAAA\"\n",
    "s2 = \"AAAAAAAA\"\n",
    "gap_penalty = -1\n",
    "match_score = 1\n",
    "mismatch_score = -1\n",
    "\n",
    "nw(s1,s2,gap_penalty,match_score,mismatch_score)"
   ]
  },
  {
   "cell_type": "code",
   "execution_count": null,
   "metadata": {},
   "outputs": [],
   "source": []
  }
 ],
 "metadata": {
  "kernelspec": {
   "display_name": "Python 3",
   "language": "python",
   "name": "python3"
  },
  "language_info": {
   "codemirror_mode": {
    "name": "ipython",
    "version": 3
   },
   "file_extension": ".py",
   "mimetype": "text/x-python",
   "name": "python",
   "nbconvert_exporter": "python",
   "pygments_lexer": "ipython3",
   "version": "3.7.4"
  }
 },
 "nbformat": 4,
 "nbformat_minor": 2
}
