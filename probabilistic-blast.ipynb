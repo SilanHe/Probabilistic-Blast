{
 "cells": [
  {
   "cell_type": "code",
   "execution_count": 2,
   "metadata": {},
   "outputs": [],
   "source": [
    "from collections import defaultdict\n",
    "import sqlite3"
   ]
  },
  {
   "cell_type": "code",
   "execution_count": null,
   "metadata": {},
   "outputs": [],
   "source": [
    "conn = sqlite3.connect('blast.db')\n",
    "c = conn.cursor()"
   ]
  },
  {
   "cell_type": "code",
   "execution_count": null,
   "metadata": {},
   "outputs": [],
   "source": [
    "def get_table_name(word_size):\n",
    "    return \"preprocess_wordsize_\" + str(word_size)"
   ]
  },
  {
   "cell_type": "code",
   "execution_count": null,
   "metadata": {},
   "outputs": [],
   "source": [
    "nucleotide_num = {'A':0,'C':1,'G':2,'T':3}\n",
    "\n",
    "def get_word_encoding(word):\n",
    "    inverted_word = word[::-1]\n",
    "    n = len(word)\n",
    "    \n",
    "    index = 0\n",
    "    \n",
    "    for i in range(n):\n",
    "        index += pow(4,i) * nucleotide_num[inverted_word[i]] \n",
    "    \n",
    "    return index + 1"
   ]
  },
  {
   "cell_type": "code",
   "execution_count": null,
   "metadata": {},
   "outputs": [],
   "source": [
    "def get_indexes_for_word(word):\n",
    "    word_size = (len(word))\n",
    "    new_table_name = get_table_name(word_size)\n",
    "    \n",
    "    encoding = get_word_encoding(word)\n",
    "    \n",
    "    s = \"SELECT sequence_index FROM {} where word_encoding = ?\".format(new_table_name)\n",
    "    return c.execute(s,(encoding,))"
   ]
  }
 ],
 "metadata": {
  "kernelspec": {
   "display_name": "Python 3",
   "language": "python",
   "name": "python3"
  },
  "language_info": {
   "codemirror_mode": {
    "name": "ipython",
    "version": 3
   },
   "file_extension": ".py",
   "mimetype": "text/x-python",
   "name": "python",
   "nbconvert_exporter": "python",
   "pygments_lexer": "ipython3",
   "version": "3.7.4"
  }
 },
 "nbformat": 4,
 "nbformat_minor": 2
}
