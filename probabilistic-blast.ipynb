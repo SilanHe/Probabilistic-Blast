{
 "cells": [
  {
   "cell_type": "code",
   "execution_count": 1,
   "metadata": {},
   "outputs": [],
   "source": [
    "from collections import defaultdict\n",
    "import sqlite3\n",
    "import numpy as np"
   ]
  },
  {
   "cell_type": "code",
   "execution_count": 43,
   "metadata": {},
   "outputs": [],
   "source": [
    "# INPUTS\n",
    "query_file = \"random_query.fa\"  # random query selected as a slice from seq: seq[100:400] len=300\n",
    "probability_file = \"chr22.maf.ancestors.42000000.complete.boreo.conf.txt\"\n",
    "fasta_file = \"chr22.maf.ancestors.42000000.complete.boreo.fa.txt\"\n",
    "\n",
    "# PARAMS\n",
    "w = 11\n",
    "MATCH_SCORE = 1\n",
    "MISMATCH_SCORE = -1\n",
    "M = np.array((4, 4))\n",
    "delta = 10\n",
    "alpha = 5\n",
    "beta = 10\n"
   ]
  },
  {
   "cell_type": "code",
   "execution_count": 37,
   "metadata": {},
   "outputs": [
    {
     "name": "stdout",
     "output_type": "stream",
     "text": [
      "CAACTAACCA\n",
      "[0.99, 1.0, 1.0, 0.99, 0.98, 1.0, 1.0, 0.99, 0.99, 1.0]\n",
      "CATCAACCAC\n"
     ]
    }
   ],
   "source": [
    "# Open the probability file and store it is as a list of floats\n",
    "with open(probability_file, 'r') as f:\n",
    "    prob = f.readline()\n",
    "prob = prob.split(' ')\n",
    "prob = prob[:-1]\n",
    "prob = [float(i) for i in prob]\n",
    "\n",
    "# Open the fasta file and store it as a string\n",
    "with open(fasta_file, 'r') as f:\n",
    "    db = f.readline()\n",
    "\n",
    "# Open the query file and store it as a string\n",
    "with open(query_file) as f:\n",
    "    query = f.readline()\n",
    "    \n",
    "# Test import\n",
    "print(db[:10])\n",
    "print(prob[:10])\n",
    "print(query[:10])"
   ]
  },
  {
   "cell_type": "code",
   "execution_count": 29,
   "metadata": {},
   "outputs": [],
   "source": [
    "conn = sqlite3.connect('blast.db')\n",
    "c = conn.cursor()"
   ]
  },
  {
   "cell_type": "code",
   "execution_count": 30,
   "metadata": {},
   "outputs": [],
   "source": [
    "def get_table_name(word_size):\n",
    "    return \"preprocess_wordsize_\" + str(word_size)"
   ]
  },
  {
   "cell_type": "code",
   "execution_count": 31,
   "metadata": {},
   "outputs": [],
   "source": [
    "nucleotide_num = {'A':0,'C':1,'G':2,'T':3}\n",
    "\n",
    "def get_word_encoding(word):\n",
    "    inverted_word = word[::-1]\n",
    "    n = len(word)\n",
    "    \n",
    "    index = 0\n",
    "    \n",
    "    for i in range(n):\n",
    "        index += pow(4,i) * nucleotide_num[inverted_word[i]] \n",
    "    \n",
    "    return index + 1"
   ]
  },
  {
   "cell_type": "code",
   "execution_count": 32,
   "metadata": {},
   "outputs": [],
   "source": [
    "def get_indexes_for_word(word):\n",
    "    word_size = (len(word))\n",
    "    new_table_name = get_table_name(word_size)\n",
    "    \n",
    "    encoding = get_word_encoding(word)\n",
    "    \n",
    "    s = \"SELECT sequence_index FROM {} where word_encoding = ?\".format(new_table_name)\n",
    "    return c.execute(s,(encoding,))"
   ]
  },
  {
   "cell_type": "code",
   "execution_count": 44,
   "metadata": {},
   "outputs": [],
   "source": [
    "def singleBaseCompare(base1, base2):\n",
    "    if base1 == base2:\n",
    "        return MATCH_SCORE\n",
    "    else:\n",
    "        return MISMATCH_SCORE"
   ]
  },
  {
   "cell_type": "code",
   "execution_count": 34,
   "metadata": {},
   "outputs": [],
   "source": [
    "def scoreSeed(index):\n",
    "    \"\"\" Given the starting index in the database of a seed\n",
    "    returns the score of that seed based on the product of MATCH_SCORE and probabilities\"\"\"\n",
    "    seed_score = 0\n",
    "    for i in range(index, index + w + 1):\n",
    "        seed_score = prob[i] * MATCH_SCORE\n",
    "    return seed_score"
   ]
  },
  {
   "cell_type": "code",
   "execution_count": 42,
   "metadata": {},
   "outputs": [
    {
     "data": {
      "text/plain": [
       "['CATCAACCACA', 'ATCAACCACAG', 'TCAACCACAGA']"
      ]
     },
     "execution_count": 42,
     "metadata": {},
     "output_type": "execute_result"
    }
   ],
   "source": [
    "# Get all possible words from query and store them in the list of strings words\n",
    "words = []\n",
    "i = 0\n",
    "while(i+w <= len(query)):\n",
    "    words.append(query[i:i+w])\n",
    "    i += 1\n",
    "\n",
    "words[:3]"
   ]
  },
  {
   "cell_type": "code",
   "execution_count": 46,
   "metadata": {},
   "outputs": [],
   "source": [
    "def ungappedExtensionRight(query_index, db_index, seed_score):\n",
    "    \"\"\"Takes the index of the query and db at the end the seed and the seed_score\n",
    "    outputs the indices of the ungapped extension and its score\"\"\"\n",
    "    max_score = seed_score\n",
    "    maxscoring_qi = 0\n",
    "    maxscoring_dbi = 0\n",
    "    score = seed_score\n",
    "    \n",
    "    # While loop that exits when the difference between max_score acheived and score is greater than delta\n",
    "    while max_score - score < delta:\n",
    "        query_index += 1\n",
    "        db_index += 1\n",
    "        score += singleBaseCompare(query[query_index], db[db_index])\n",
    "        if score > max_score:\n",
    "            max_score = score\n",
    "            maxscoring_qi = query_index\n",
    "            maxscoring_dbi = db_index\n",
    "    \n",
    "    return (maxscoring_qi, maxscoring_dbi, max_score)\n",
    "\n",
    "def ungappedExtensionLeft(query_index, db_index, seed_score):\n",
    "    \"\"\"Takes the index of the query and db at the start the seed and the seed_score\n",
    "    outputs the indices of the ungapped extension and its score\"\"\"\n",
    "    max_score = seed_score\n",
    "    maxscoring_qi = 0\n",
    "    maxscoring_dbi = 0\n",
    "    score = seed_score\n",
    "    \n",
    "    # While loop that exits when the difference between max_score acheived and score is greater than delta\n",
    "    while max_score - score < delta:\n",
    "        query_index -= 1\n",
    "        db_index -= 1\n",
    "        score += singleBaseCompare(query[query_index], db[db_index])\n",
    "        if score > max_score:\n",
    "            max_score = score\n",
    "            maxscoring_qi = query_index\n",
    "            maxscoring_dbi = db_index\n",
    "    \n",
    "    return (maxscoring_qi, maxscoring_dbi, max_score)"
   ]
  },
  {
   "cell_type": "code",
   "execution_count": 53,
   "metadata": {},
   "outputs": [],
   "source": [
    "# Putting it all together\n",
    "\n"
   ]
  },
  {
   "cell_type": "code",
   "execution_count": null,
   "metadata": {},
   "outputs": [],
   "source": [
    "conn.close()"
   ]
  }
 ],
 "metadata": {
  "kernelspec": {
   "display_name": "Python 3",
   "language": "python",
   "name": "python3"
  },
  "language_info": {
   "codemirror_mode": {
    "name": "ipython",
    "version": 3
   },
   "file_extension": ".py",
   "mimetype": "text/x-python",
   "name": "python",
   "nbconvert_exporter": "python",
   "pygments_lexer": "ipython3",
   "version": "3.6.5"
  }
 },
 "nbformat": 4,
 "nbformat_minor": 2
}
