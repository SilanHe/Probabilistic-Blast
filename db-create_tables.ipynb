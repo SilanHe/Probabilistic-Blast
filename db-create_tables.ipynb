{
 "cells": [
  {
   "cell_type": "code",
   "execution_count": 1,
   "metadata": {},
   "outputs": [],
   "source": [
    "import sqlite3"
   ]
  },
  {
   "cell_type": "code",
   "execution_count": 2,
   "metadata": {},
   "outputs": [],
   "source": [
    "conn = sqlite3.connect('blast.db')\n",
    "c = conn.cursor()"
   ]
  },
  {
   "cell_type": "code",
   "execution_count": 32,
   "metadata": {},
   "outputs": [],
   "source": [
    "def get_table_name(word_size):\n",
    "    return \"preprocess_wordsize_\" + str(word_size)"
   ]
  },
  {
   "cell_type": "code",
   "execution_count": 103,
   "metadata": {},
   "outputs": [],
   "source": [
    "nucleotide_num = {'A':0,'C':1,'G':2,'T':3}\n",
    "\n",
    "def get_word_encoding(word):\n",
    "    inverted_word = word[::-1]\n",
    "    n = len(word)\n",
    "    \n",
    "    index = 0\n",
    "    \n",
    "    for i in range(n):\n",
    "        index += pow(4,i) * nucleotide_num[inverted_word[i]] \n",
    "    \n",
    "    return index + 1"
   ]
  },
  {
   "cell_type": "code",
   "execution_count": 104,
   "metadata": {},
   "outputs": [
    {
     "data": {
      "text/plain": [
       "160"
      ]
     },
     "execution_count": 104,
     "metadata": {},
     "output_type": "execute_result"
    }
   ],
   "source": [
    "get_word_encoding('AGCTT')"
   ]
  },
  {
   "cell_type": "code",
   "execution_count": 3,
   "metadata": {},
   "outputs": [],
   "source": [
    "def all_combinations(word_size):\n",
    "    nucleotides = ('A','C','G','T')\n",
    "    sol = list()\n",
    "    \n",
    "    def all_combinations_rec(size,cur_sol):\n",
    "    \n",
    "        # exit condition\n",
    "        if size == 0:\n",
    "            sol.append(''.join(cur_sol))\n",
    "            return\n",
    "        \n",
    "        for nuc in nucleotides:\n",
    "            \n",
    "            cur_sol.append(nuc)\n",
    "            all_combinations_rec(size-1,cur_sol)\n",
    "            \n",
    "            # backtrack\n",
    "                       \n",
    "            cur_sol.pop()\n",
    "    \n",
    "    all_combinations_rec(word_size,[])\n",
    "    \n",
    "    return sol"
   ]
  },
  {
   "cell_type": "code",
   "execution_count": 136,
   "metadata": {},
   "outputs": [],
   "source": [
    "def create_word_table(word_size):\n",
    "    \n",
    "    # new table name\n",
    "    new_table_name = get_table_name(word_size)\n",
    "    \n",
    "    # Create new table for this word size\n",
    "    \n",
    "    create_table_s = \"CREATE TABLE {} (id INTEGER PRIMARY KEY,sequence_index int NOT NULL UNIQUE,word_encoding int NOT NULL)\".format(new_table_name,str(word_size))\n",
    "    c.execute(create_table_s)\n",
    "    \n",
    "    # Save (commit) the changes\n",
    "    conn.commit()"
   ]
  },
  {
   "cell_type": "code",
   "execution_count": 139,
   "metadata": {},
   "outputs": [],
   "source": [
    "create_word_table(5)"
   ]
  },
  {
   "cell_type": "code",
   "execution_count": 138,
   "metadata": {},
   "outputs": [
    {
     "data": {
      "text/plain": [
       "<sqlite3.Cursor at 0x10b4e70a0>"
      ]
     },
     "execution_count": 138,
     "metadata": {},
     "output_type": "execute_result"
    }
   ],
   "source": [
    "# delete a table if it already exists\n",
    "word_size = 5\n",
    "new_table_name = get_table_name(word_size)\n",
    "#c.execute(\"DROP TABLE {}\".format(new_table_name))"
   ]
  },
  {
   "cell_type": "code",
   "execution_count": 113,
   "metadata": {},
   "outputs": [
    {
     "data": {
      "text/plain": [
       "<sqlite3.Cursor at 0x10b4e70a0>"
      ]
     },
     "execution_count": 113,
     "metadata": {},
     "output_type": "execute_result"
    }
   ],
   "source": [
    "# makes a cursor which is like an iterator\n",
    "c.execute(\"SELECT * FROM preprocess_wordsize_5\")"
   ]
  },
  {
   "cell_type": "code",
   "execution_count": 114,
   "metadata": {},
   "outputs": [],
   "source": [
    "# you can do this to print them or make them into a list\n",
    "for row in c.execute(\"SELECT * FROM preprocess_wordsize_5\"):\n",
    "    print(row)"
   ]
  },
  {
   "cell_type": "code",
   "execution_count": 115,
   "metadata": {},
   "outputs": [],
   "source": [
    "l = list(c.execute(\"SELECT * FROM preprocess_wordsize_5\"))"
   ]
  },
  {
   "cell_type": "code",
   "execution_count": 116,
   "metadata": {},
   "outputs": [
    {
     "data": {
      "text/plain": [
       "<sqlite3.Cursor at 0x10b4e70a0>"
      ]
     },
     "execution_count": 116,
     "metadata": {},
     "output_type": "execute_result"
    }
   ],
   "source": [
    "c.execute(\"SELECT * FROM indexed_words_wordsize_5\")"
   ]
  },
  {
   "cell_type": "code",
   "execution_count": 128,
   "metadata": {},
   "outputs": [],
   "source": [
    "def get_indexes_for_word(word):\n",
    "    word_size = (len(word))\n",
    "    new_table_name = get_table_name(word_size)\n",
    "    \n",
    "    encoding = get_word_encoding(word)\n",
    "    \n",
    "    s = \"SELECT sequence_index FROM {} where word_encoding = ?\".format(new_table_name)\n",
    "    return c.execute(s,(encoding,))\n"
   ]
  },
  {
   "cell_type": "code",
   "execution_count": 129,
   "metadata": {},
   "outputs": [
    {
     "data": {
      "text/plain": [
       "<sqlite3.Cursor at 0x10b4e70a0>"
      ]
     },
     "execution_count": 129,
     "metadata": {},
     "output_type": "execute_result"
    }
   ],
   "source": [
    "get_indexes_for_word('AAAAA')"
   ]
  },
  {
   "cell_type": "code",
   "execution_count": 140,
   "metadata": {},
   "outputs": [],
   "source": [
    "def insert_index_for_word(word,index):\n",
    "    word_size = (len(word))\n",
    "    new_table_name = get_table_name(word_size)\n",
    "    \n",
    "    encoding = get_word_encoding(word)\n",
    "    \n",
    "    s = \"INSERT INTO {} (sequence_index,word_encoding) VALUES (?,?)\".format(new_table_name)\n",
    "    c.execute(s,(index,encoding,))\n",
    "    \n",
    "    conn.commit()"
   ]
  },
  {
   "cell_type": "code",
   "execution_count": 146,
   "metadata": {},
   "outputs": [],
   "source": [
    "cursor = get_indexes_for_word('AAAAA')"
   ]
  },
  {
   "cell_type": "code",
   "execution_count": 147,
   "metadata": {},
   "outputs": [],
   "source": [
    "for row in cursor:\n",
    "    print(row)"
   ]
  }
 ],
 "metadata": {
  "kernelspec": {
   "display_name": "Python 3",
   "language": "python",
   "name": "python3"
  },
  "language_info": {
   "codemirror_mode": {
    "name": "ipython",
    "version": 3
   },
   "file_extension": ".py",
   "mimetype": "text/x-python",
   "name": "python",
   "nbconvert_exporter": "python",
   "pygments_lexer": "ipython3",
   "version": "3.7.4"
  }
 },
 "nbformat": 4,
 "nbformat_minor": 2
}
