{
 "cells": [
  {
   "cell_type": "markdown",
   "metadata": {},
   "source": [
    "** Generate random query sequences based on the probability values in the database**"
   ]
  },
  {
   "cell_type": "code",
   "execution_count": 6,
   "metadata": {},
   "outputs": [
    {
     "data": {
      "text/plain": [
       "float"
      ]
     },
     "execution_count": 6,
     "metadata": {},
     "output_type": "execute_result"
    }
   ],
   "source": [
    "# Import database and confidence values\n",
    "\n",
    "with open(\"chr22.maf.ancestors.42000000.complete.boreo.fa.txt\", 'r') as f:\n",
    "    db = f.readline()\n",
    "    \n",
    "with open(\"chr22.maf.ancestors.42000000.complete.boreo.conf.txt\", 'r') as f:\n",
    "    prob = f.readline()\n",
    "    prob = prob.split(' ')\n",
    "    prob = [float(i) for i in prob[:-1]]\n"
   ]
  },
  {
   "cell_type": "code",
   "execution_count": 10,
   "metadata": {},
   "outputs": [],
   "source": [
    "def enumerate_nuc(nucleotide):\n",
    "    if nucleotide == 'A':\n",
    "        return 0\n",
    "    elif nucleotide == 'G':\n",
    "        return 1\n",
    "    elif nucleotide == 'C':\n",
    "        return 2\n",
    "    elif nucleotide == 'T':\n",
    "        return 3\n",
    "    else:\n",
    "        return -1 # err"
   ]
  },
  {
   "cell_type": "code",
   "execution_count": 22,
   "metadata": {
    "scrolled": true
   },
   "outputs": [],
   "source": [
    "import random\n",
    "query = nucleotide\n",
    "\n",
    "for i in range(100, 399):\n",
    "    if (prob[i] > random.random()):\n",
    "        nucleotide = db[i]\n",
    "    else:\n",
    "        nucleotides = ['A', 'G', 'C', 'T']\n",
    "        nucleotides.remove(db[i])\n",
    "        nucleotide = nucleotides[random.randrange(3)]\n",
    "    query += nucleotide"
   ]
  },
  {
   "cell_type": "code",
   "execution_count": 25,
   "metadata": {},
   "outputs": [],
   "source": [
    "with open('random_query.fa', 'w') as f:\n",
    "    f.write(query)"
   ]
  },
  {
   "cell_type": "code",
   "execution_count": null,
   "metadata": {},
   "outputs": [],
   "source": []
  }
 ],
 "metadata": {
  "kernelspec": {
   "display_name": "Python 3",
   "language": "python",
   "name": "python3"
  },
  "language_info": {
   "codemirror_mode": {
    "name": "ipython",
    "version": 3
   },
   "file_extension": ".py",
   "mimetype": "text/x-python",
   "name": "python",
   "nbconvert_exporter": "python",
   "pygments_lexer": "ipython3",
   "version": "3.6.5"
  }
 },
 "nbformat": 4,
 "nbformat_minor": 2
}
