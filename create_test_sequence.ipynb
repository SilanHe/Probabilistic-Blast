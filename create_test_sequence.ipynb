{
 "cells": [
  {
   "cell_type": "code",
   "execution_count": 1,
   "metadata": {},
   "outputs": [],
   "source": [
    "# load the sequence and probabilities into memory\n",
    "sequence_filename = \"chr22.maf.ancestors.42000000.complete.boreo.fa.txt\"\n",
    "probabilities_filename = \"chr22.maf.ancestors.42000000.complete.boreo.conf.txt\"\n",
    "\n",
    "with open(sequence_filename) as f:\n",
    "    sequence = f.readline()\n",
    "\n",
    "with open(probabilities_filename) as f:\n",
    "    probabilities = f.readline().split()\n",
    "\n",
    "# make all probabilities float\n",
    "n = len(probabilities)\n",
    "for i in range(n):\n",
    "    probabilities[i] = float(probabilities[i])"
   ]
  },
  {
   "cell_type": "code",
   "execution_count": 2,
   "metadata": {},
   "outputs": [],
   "source": [
    "# set random seed\n",
    "import random\n",
    "\n",
    "random.seed(1)"
   ]
  },
  {
   "cell_type": "code",
   "execution_count": 3,
   "metadata": {},
   "outputs": [],
   "source": [
    "# generate test sequence"
   ]
  },
  {
   "cell_type": "code",
   "execution_count": 4,
   "metadata": {},
   "outputs": [],
   "source": [
    "def get_test_sequence(length,prob_insertion,prob_deletion):\n",
    "    nucleotides = ['A', 'G', 'C', 'T']\n",
    "    \n",
    "    # get random starting position\n",
    "    \n",
    "    len_sequence = len(sequence)\n",
    "    # len of probabilities should be the same\n",
    "    \n",
    "    start_index = random.randrange(len_sequence-length-1)\n",
    "    \n",
    "    query = list()\n",
    "    \n",
    "    for i in range(start_index, start_index+length):\n",
    "    \n",
    "        insertion_deletion_prob = random.random()\n",
    "        \n",
    "        if insertion_deletion_prob < prob_insertion:\n",
    "            # if we are within probability of getting an insertion\n",
    "            nucleotide = nucleotides[random.randrange(4)]\n",
    "\n",
    "        elif insertion_deletion_prob < prob_insertion + prob_deletion:\n",
    "            # if we are within probability of getting a deletion\n",
    "            nucleotide = \"\"\n",
    "        \n",
    "        else:\n",
    "            # if there is no indel\n",
    "            \n",
    "            if (probabilities[i] > random.random()):\n",
    "                nucleotide = sequence[i]\n",
    "            else:\n",
    "                temp_nucleotides = ['A', 'G', 'C', 'T']\n",
    "                temp_nucleotides.remove(sequence[i])\n",
    "                nucleotide = temp_nucleotides[random.randrange(3)]\n",
    "\n",
    "        # add to our list representing the sequence\n",
    "        \n",
    "        query.append(nucleotide)\n",
    "    \n",
    "    return [\"\".join(query),start_index]"
   ]
  },
  {
   "cell_type": "code",
   "execution_count": 5,
   "metadata": {},
   "outputs": [],
   "source": [
    "# test_name = \"test_sequence\"\n",
    "# new_filename = test_name + \".fa\"\n",
    "\n",
    "# length = 300\n",
    "# prob_insertion = 0.01\n",
    "# prob_deletion = 0.01\n",
    "\n",
    "# test_sequence_list = get_test_sequence(length,prob_insertion,prob_deletion)\n",
    "\n",
    "# with open(new_filename, 'w') as f:\n",
    "#     f.write(\">\" + test_name + \" \" + str(test_sequence_list[1]) + \" \" + str(length) + \"\\n\")\n",
    "#     f.write(test_sequence_list[0])"
   ]
  },
  {
   "cell_type": "code",
   "execution_count": 6,
   "metadata": {},
   "outputs": [],
   "source": [
    "import blast\n",
    "import os"
   ]
  },
  {
   "cell_type": "code",
   "execution_count": 7,
   "metadata": {},
   "outputs": [],
   "source": [
    "def test_probabilistic_blast(test_name,iterations):\n",
    "    \n",
    "    pblast = blast.PBlast()\n",
    "    \n",
    "    exact_index_matches = 0\n",
    "    contains_match = 0\n",
    "    \n",
    "    cur_dir = os.getcwd()\n",
    "    os.mkdir(test_name)\n",
    "    \n",
    "    for i in range(iterations):\n",
    "        \n",
    "        new_filename = test_name +  str(i) + \".fa\"\n",
    "        new_path_to_file = os.path.join(cur_dir, test_name, new_filename)\n",
    "\n",
    "        length = 300\n",
    "        prob_insertion = 0.01\n",
    "        prob_deletion = 0.01\n",
    "\n",
    "        test_sequence_list = get_test_sequence(length,prob_insertion,prob_deletion)\n",
    "\n",
    "        with open(new_path_to_file, 'w') as f:\n",
    "            f.write(\">\" + test_name + \" \" + str(test_sequence_list[1]) + \" \" + str(length) + \"\\n\")\n",
    "            f.write(test_sequence_list[0])\n",
    "        \n",
    "        # call to probabilistic blast\n",
    "        pblast.load_query_file(new_path_to_file)\n",
    "        \n",
    "        # compare with start and end index locations\n",
    "        result = pblast.probabilistic_blast()\n",
    "        \n",
    "        if test_sequence_list[1] == result[0] and result[1] - result[0] == length:\n",
    "            exact_index_matches += 1\n",
    "        elif test_sequence_list[1] < result[0] and result[1] - result[0] >= length:\n",
    "            contains_match += 1\n",
    "    \n",
    "    return [exact_index_matches,contains_match,iterations]\n",
    "        "
   ]
  },
  {
   "cell_type": "code",
   "execution_count": null,
   "metadata": {
    "scrolled": false
   },
   "outputs": [
    {
     "name": "stdout",
     "output_type": "stream",
     "text": [
      "total_seeds:  162\n",
      "stopped before ungapped extension:  0\n",
      "stopped before gapped extension:  75\n",
      "HSPs:  87\n",
      "BEST SCORING ALIGNMENT: \n",
      "140891\n",
      "141206\n",
      "query: \tHSP: \tGCTACCTATATTTTTACCTTTTAGGGAAGAGAGCGTAGAAAATGGAGATTGGGTCTTTGgap: \t-CCAACAGCAAATAGAGGAAATTGATTTTTCATATATTTCTGGTGTTTCAATGAATGAGTCTTCTGGCAAGTAGGAGACTTGGATTTTGTTTACCTGTTACCTGTGTATCACCCCTA-TTTG-AAGAAAATTTCATTGTAATTGCCTGCAAATCTGAAAGGTAAGTGATATACCTTTAC-TAAGATAACCCTCCACCAAGATAACCGTCCAACAATGC-CTGGTTGTTTGTCA-------T--TT---G--T-TTT\n",
      "db: \tHSP: \tGCTAGCAATATTTTTACCTTTTAGGGAAGAGAAATGAGAAAATGGAGATTGGGTCTTTGgap: \tACCAACAGCAAATAGAGGAAATTGATTTTCCATATATTTCTGGTGTTTCAATGAATGTGTCTCCTGGCAAGTAGGAGATTTTGATTTTTTTTACCTGTTATCTGTTTATCACCCCTATTTTGAAAGAAAATTTCATTATTTTTGTCTACAAATCTGAAAGGTAACTAATATACCTTTACTTAAGATAACCGTCCAAAAAGATAACCATCCAACAATGCTCTGGTTGTTTGTCATTTGTTTTCCTTAAAGTTTGTTT\n",
      "245.99999999999986\n",
      "[140891, 141206, 'query: \\tHSP: \\tGCTACCTATATTTTTACCTTTTAGGGAAGAGAGCGTAGAAAATGGAGATTGGGTCTTTGgap: \\t-CCAACAGCAAATAGAGGAAATTGATTTTTCATATATTTCTGGTGTTTCAATGAATGAGTCTTCTGGCAAGTAGGAGACTTGGATTTTGTTTACCTGTTACCTGTGTATCACCCCTA-TTTG-AAGAAAATTTCATTGTAATTGCCTGCAAATCTGAAAGGTAAGTGATATACCTTTAC-TAAGATAACCCTCCACCAAGATAACCGTCCAACAATGC-CTGGTTGTTTGTCA-------T--TT---G--T-TTT', 'db: \\tHSP: \\tGCTAGCAATATTTTTACCTTTTAGGGAAGAGAAATGAGAAAATGGAGATTGGGTCTTTGgap: \\tACCAACAGCAAATAGAGGAAATTGATTTTCCATATATTTCTGGTGTTTCAATGAATGTGTCTCCTGGCAAGTAGGAGATTTTGATTTTTTTTACCTGTTATCTGTTTATCACCCCTATTTTGAAAGAAAATTTCATTATTTTTGTCTACAAATCTGAAAGGTAACTAATATACCTTTACTTAAGATAACCGTCCAAAAAGATAACCATCCAACAATGCTCTGGTTGTTTGTCATTTGTTTTCCTTAAAGTTTGTTT', 245.99999999999986]\n"
     ]
    }
   ],
   "source": [
    "results = test_probabilistic_blast(\"third_test\",100)"
   ]
  },
  {
   "cell_type": "code",
   "execution_count": null,
   "metadata": {},
   "outputs": [],
   "source": []
  }
 ],
 "metadata": {
  "kernelspec": {
   "display_name": "Python 3",
   "language": "python",
   "name": "python3"
  },
  "language_info": {
   "codemirror_mode": {
    "name": "ipython",
    "version": 3
   },
   "file_extension": ".py",
   "mimetype": "text/x-python",
   "name": "python",
   "nbconvert_exporter": "python",
   "pygments_lexer": "ipython3",
   "version": "3.7.4"
  }
 },
 "nbformat": 4,
 "nbformat_minor": 2
}
