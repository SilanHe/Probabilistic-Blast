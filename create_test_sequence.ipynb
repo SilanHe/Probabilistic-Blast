{
 "cells": [
  {
   "cell_type": "code",
   "execution_count": 1,
   "metadata": {},
   "outputs": [],
   "source": [
    "# load the sequence and probabilities into memory\n",
    "sequence_filename = \"chr22.maf.ancestors.42000000.complete.boreo.fa.txt\"\n",
    "probabilities_filename = \"chr22.maf.ancestors.42000000.complete.boreo.conf.txt\"\n",
    "\n",
    "with open(sequence_filename) as f:\n",
    "    sequence = f.readline()\n",
    "\n",
    "with open(probabilities_filename) as f:\n",
    "    probabilities = f.readline().split()\n",
    "\n",
    "# make all probabilities float\n",
    "n = len(probabilities)\n",
    "for i in range(n):\n",
    "    probabilities[i] = float(probabilities[i])"
   ]
  },
  {
   "cell_type": "code",
   "execution_count": 4,
   "metadata": {},
   "outputs": [],
   "source": [
    "# set random seed\n",
    "import random\n",
    "\n",
    "random.seed(1)"
   ]
  },
  {
   "cell_type": "code",
   "execution_count": 5,
   "metadata": {},
   "outputs": [],
   "source": [
    "# generate test sequence"
   ]
  },
  {
   "cell_type": "code",
   "execution_count": 14,
   "metadata": {},
   "outputs": [],
   "source": [
    "def get_test_sequence(length,prob_insertion,prob_deletion):\n",
    "    nucleotides = ['A', 'G', 'C', 'T']\n",
    "    \n",
    "    # get random starting position\n",
    "    \n",
    "    len_sequence = len(sequence)\n",
    "    # len of probabilities should be the same\n",
    "    \n",
    "    start_index = random.randrange(len_sequence-length-1)\n",
    "    \n",
    "    query = list()\n",
    "    \n",
    "    for i in range(start_index, start_index+length):\n",
    "    \n",
    "        insertion_deletion_prob = random.random()\n",
    "        \n",
    "        if insertion_deletion_prob < prob_insertion:\n",
    "            # if we are within probability of getting an insertion\n",
    "            nucleotide = nucleotides[random.randrange(4)]\n",
    "\n",
    "        elif insertion_deletion_prob < prob_insertion + prob_deletion:\n",
    "            # if we are within probability of getting a deletion\n",
    "            nucleotide = \"\"\n",
    "        \n",
    "        else:\n",
    "            # if there is no indel\n",
    "            \n",
    "            if (probabilities[i] > random.random()):\n",
    "                nucleotide = sequence[i]\n",
    "            else:\n",
    "                temp_nucleotides = ['A', 'G', 'C', 'T']\n",
    "                temp_nucleotides.remove(sequence[i])\n",
    "                nucleotide = temp_nucleotides[random.randrange(3)]\n",
    "\n",
    "        # add to our list representing the sequence\n",
    "        \n",
    "        query.append(nucleotide)\n",
    "    \n",
    "    return [\"\".join(query),start_index]"
   ]
  },
  {
   "cell_type": "code",
   "execution_count": 18,
   "metadata": {},
   "outputs": [],
   "source": [
    "test_name = \"test_sequence\"\n",
    "new_filename = test_name + \".fa\"\n",
    "\n",
    "length = 300\n",
    "prob_insertion = 0.01\n",
    "prob_deletion = 0.01\n",
    "\n",
    "test_sequence_list = get_test_sequence(length,prob_insertion,prob_deletion)\n",
    "\n",
    "with open(new_filename, 'w') as f:\n",
    "    f.write(\">\" + test_name + \" \" + str(test_sequence_list[1]) + \" \" + str(length) + \"\\n\")\n",
    "    f.write(test_sequence_list[0])"
   ]
  },
  {
   "cell_type": "code",
   "execution_count": null,
   "metadata": {},
   "outputs": [],
   "source": []
  },
  {
   "cell_type": "code",
   "execution_count": null,
   "metadata": {},
   "outputs": [],
   "source": [
    "def test_probabilistic_blast(test_name,iterations):\n",
    "    \n",
    "    for i in range(iterations):\n",
    "        \n",
    "        new_filename = test_name + str(i) + \".fa\"\n",
    "\n",
    "        length = 300\n",
    "        prob_insertion = 0.01\n",
    "        prob_deletion = 0.01\n",
    "\n",
    "        test_sequence_list = get_test_sequence(length,prob_insertion,prob_deletion)\n",
    "\n",
    "        with open(new_filename, 'w') as f:\n",
    "            f.write(\">\" + test_name + \" \" + str(test_sequence_list[1]) + \" \" + str(length) + \"\\n\")\n",
    "            f.write(test_sequence_list[0])\n",
    "        \n",
    "        # call to probabilistic blast\n",
    "        \n",
    "        # compare with start and end index locations\n",
    "        \n",
    "        "
   ]
  }
 ],
 "metadata": {
  "kernelspec": {
   "display_name": "Python 3",
   "language": "python",
   "name": "python3"
  },
  "language_info": {
   "codemirror_mode": {
    "name": "ipython",
    "version": 3
   },
   "file_extension": ".py",
   "mimetype": "text/x-python",
   "name": "python",
   "nbconvert_exporter": "python",
   "pygments_lexer": "ipython3",
   "version": "3.7.4"
  }
 },
 "nbformat": 4,
 "nbformat_minor": 2
}
